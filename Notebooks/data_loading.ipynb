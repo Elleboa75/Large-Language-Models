{
 "cells": [
  {
   "cell_type": "code",
   "metadata": {
    "ExecuteTime": {
     "end_time": "2024-10-24T15:28:55.190055Z",
     "start_time": "2024-10-24T15:28:50.895412Z"
    }
   },
   "source": [
    "import json\n",
    "import pandas as pd\n",
    "\n",
    "# Function to load the data from the JSON lines file\n",
    "def load_json_data(file_path):\n",
    "    data = []\n",
    "    # Open the file and read each line as a JSON object\n",
    "    with open(file_path, 'r') as file:\n",
    "        for line in file:\n",
    "            try:\n",
    "                data.append(json.loads(line))\n",
    "            except json.JSONDecodeError:\n",
    "                continue  # In case a line is not properly formatted, skip it\n",
    "    return data\n",
    "\n",
    "# Paths to the JSONL files\n",
    "file_path_anti = '../Data/raw/antiracist.jsonl'\n",
    "file_path_neutral = '../Data/raw/neutral.jsonl'\n",
    "file_path_racist = '../Data/raw/racist.jsonl'\n",
    "\n",
    "# Paths to the processed data\n",
    "processed_anti_path = '../Data/processed/'\n",
    "processed_racist_path = '../Data/processed/'\n",
    "processed_neutral_path = '../Data/processed/'\n",
    "\n",
    "# Load the datasets\n",
    "anti_data = load_json_data(file_path_anti)\n",
    "neutral_data = load_json_data(file_path_neutral)\n",
    "racist_data = load_json_data(file_path_racist)\n",
    "\n",
    "# Convert the data to Pandas DataFrames\n",
    "anti_df = pd.DataFrame(anti_data)\n",
    "neutral_df = pd.DataFrame(neutral_data)\n",
    "racist_df = pd.DataFrame(racist_data)\n",
    "\n",
    "anti_df = anti_df.drop(anti_df.columns[3:], axis=1)\n",
    "neutral_df = neutral_df.drop(neutral_df.columns[3:], axis=1)\n",
    "racist_df = racist_df.drop(racist_df.columns[3:], axis=1)\n",
    "\n",
    "# Save the DataFrames as CSV files\n",
    "anti_df.to_csv(processed_anti_path + 'antiracist_data.csv', index=False)\n",
    "neutral_df.to_csv(processed_neutral_path + 'neutral_data.csv', index=False)\n",
    "racist_df.to_csv(processed_racist_path + 'racist_data.csv', index=False)\n",
    "\n",
    "print(\"CSV files created: antiracist_data.csv, neutral_data.csv, and racist_data.csv\")\n"
   ],
   "outputs": [
    {
     "name": "stdout",
     "output_type": "stream",
     "text": [
      "CSV files created: antiracist_data.csv, neutral_data.csv, and racist_data.csv\n"
     ]
    }
   ],
   "execution_count": 5
  },
  {
   "metadata": {},
   "cell_type": "code",
   "outputs": [],
   "execution_count": null,
   "source": ""
  }
 ],
 "metadata": {
  "kernelspec": {
   "display_name": "Python 3",
   "language": "python",
   "name": "python3"
  },
  "language_info": {
   "codemirror_mode": {
    "name": "ipython",
    "version": 3
   },
   "file_extension": ".py",
   "mimetype": "text/x-python",
   "name": "python",
   "nbconvert_exporter": "python",
   "pygments_lexer": "ipython3",
   "version": "3.12.2"
  }
 },
 "nbformat": 4,
 "nbformat_minor": 2
}
